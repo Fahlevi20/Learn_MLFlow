{
 "cells": [
  {
   "cell_type": "code",
   "execution_count": 6,
   "metadata": {},
   "outputs": [
    {
     "data": {
      "text/plain": [
       "True"
      ]
     },
     "execution_count": 6,
     "metadata": {},
     "output_type": "execute_result"
    }
   ],
   "source": [
    "import mlflow\n",
    "import openai\n",
    "from dotenv import load_dotenv\n",
    "import os\n",
    "load_dotenv()"
   ]
  },
  {
   "cell_type": "code",
   "execution_count": 7,
   "metadata": {},
   "outputs": [
    {
     "data": {
      "text/html": [
       "\n",
       "<div>\n",
       "  <style scoped>\n",
       "  button {\n",
       "    border: none;\n",
       "    border-radius: 4px;\n",
       "    background-color: rgb(34, 114, 180);\n",
       "    font-family: -apple-system, \"system-ui\", \"Segoe UI\", Roboto, \"Helvetica Neue\", Arial;\n",
       "    font-size: 13px;\n",
       "    color: white;\n",
       "    margin-top: 8px;\n",
       "    margin-bottom: 8px;\n",
       "    padding: 8px 16px;\n",
       "    cursor: pointer;\n",
       "  }\n",
       "  button:hover {\n",
       "    background-color: rgb(66, 153, 224);\n",
       "  }\n",
       "  </style>\n",
       "  <button\n",
       "    onclick=\"\n",
       "        const display = this.nextElementSibling.style.display;\n",
       "        const isCollapsed = display === 'none';\n",
       "        this.nextElementSibling.style.display = isCollapsed ? null : 'none';\n",
       "\n",
       "        const verb = isCollapsed ? 'Collapse' : 'Expand';\n",
       "        this.innerText = `${verb} MLflow Trace`;\n",
       "    \"\n",
       "  >Collapse MLflow Trace</button>\n",
       "  <iframe\n",
       "    id=\"trace-renderer\"\n",
       "    style=\"width: 100%; height: 500px; border: none; resize: vertical;\"\n",
       "    src=\"http://localhost:5000/static-files/lib/notebook-trace-renderer/index.html?trace_id=edf8a9612bd0471a853aefb4c9f3b471&amp;experiment_id=335857954742256624&amp;version=2.20.3\"\n",
       "  />\n",
       "</div>\n"
      ],
      "text/plain": [
       "Trace(request_id=edf8a9612bd0471a853aefb4c9f3b471)"
      ]
     },
     "metadata": {},
     "output_type": "display_data"
    }
   ],
   "source": [
    "mlflow.openai.autolog()\n",
    "\n",
    "mlflow.set_tracking_uri(\"http://localhost:5000\")\n",
    "mlflow.set_experiment(\"OpenAI\")\n",
    "\n",
    "api_key = os.environ.get(\"OPENAI_API_KEY\")\n",
    "openai_client = openai.OpenAI(api_key=api_key)\n",
    "\n",
    "messages = [\n",
    "    {\n",
    "        \"role\": \"user\",\n",
    "        \"content\": \"What is the capital of France?\",\n",
    "    }\n",
    "]\n",
    "\n",
    "response = openai_client.chat.completions.create(\n",
    "    model=\"gpt-4o-mini\",\n",
    "    messages=messages,\n",
    "    temperature=0.1,\n",
    "    max_tokens=100,\n",
    ")"
   ]
  },
  {
   "cell_type": "code",
   "execution_count": 9,
   "metadata": {},
   "outputs": [
    {
     "name": "stdout",
     "output_type": "stream",
     "text": [
      "As of my last knowledge update in October 2021, I don't have any specific information about an individual named Mukhammad Fahlevi Ali Rafsanjani. If he has come into prominence or relevance after that date, I may not be aware of updates or developments regarding him. If you have specific details or context about him, I may be able to help you better!"
     ]
    },
    {
     "data": {
      "text/html": [
       "\n",
       "<div>\n",
       "  <style scoped>\n",
       "  button {\n",
       "    border: none;\n",
       "    border-radius: 4px;\n",
       "    background-color: rgb(34, 114, 180);\n",
       "    font-family: -apple-system, \"system-ui\", \"Segoe UI\", Roboto, \"Helvetica Neue\", Arial;\n",
       "    font-size: 13px;\n",
       "    color: white;\n",
       "    margin-top: 8px;\n",
       "    margin-bottom: 8px;\n",
       "    padding: 8px 16px;\n",
       "    cursor: pointer;\n",
       "  }\n",
       "  button:hover {\n",
       "    background-color: rgb(66, 153, 224);\n",
       "  }\n",
       "  </style>\n",
       "  <button\n",
       "    onclick=\"\n",
       "        const display = this.nextElementSibling.style.display;\n",
       "        const isCollapsed = display === 'none';\n",
       "        this.nextElementSibling.style.display = isCollapsed ? null : 'none';\n",
       "\n",
       "        const verb = isCollapsed ? 'Collapse' : 'Expand';\n",
       "        this.innerText = `${verb} MLflow Trace`;\n",
       "    \"\n",
       "  >Collapse MLflow Trace</button>\n",
       "  <iframe\n",
       "    id=\"trace-renderer\"\n",
       "    style=\"width: 100%; height: 500px; border: none; resize: vertical;\"\n",
       "    src=\"http://localhost:5000/static-files/lib/notebook-trace-renderer/index.html?trace_id=a078f503c3a344709def108b64260960&amp;experiment_id=335857954742256624&amp;version=2.20.3\"\n",
       "  />\n",
       "</div>\n"
      ],
      "text/plain": [
       "Trace(request_id=a078f503c3a344709def108b64260960)"
      ]
     },
     "metadata": {},
     "output_type": "display_data"
    }
   ],
   "source": [
    "mlflow.openai.autolog()\n",
    "client = openai.OpenAI(api_key=api_key)\n",
    "\n",
    "stream = client.chat.completions.create(\n",
    "    model = 'gpt-4o-mini-2024-07-18',\n",
    "    messages =[\n",
    "        {'role':'user',\n",
    "         'content':' do you know about mukhammad fahlevi ali rafsanjani?'}\n",
    "    ],\n",
    "    stream=True,\n",
    ")\n",
    "\n",
    "for chunk in stream:\n",
    "    print(chunk.choices[0].delta.content or \"\", end=\"\")"
   ]
  },
  {
   "cell_type": "code",
   "execution_count": null,
   "metadata": {},
   "outputs": [],
   "source": [
    "import openai\n",
    "\n",
    "# Enable trace logging\n",
    "mlflow.openai.autolog()\n",
    "\n",
    "client = openai.AsyncOpenAI(api_key=api_key)\n",
    "\n",
    "response = await client.chat.completions.create(\n",
    "    model=\"gpt-4o-mini-2024-07-18\",\n",
    "    messages=[\n",
    "        {\"role\": \"user\", \"content\": \"How fast would a glass of water freeze on Titan?\"}\n",
    "    ],\n",
    "    # Async streaming is also supported\n",
    "    # stream=True\n",
    "\n",
    ")"
   ]
  },
  {
   "cell_type": "code",
   "execution_count": null,
   "metadata": {},
   "outputs": [],
   "source": [
    "import openai\n",
    "from mlflow.entities import SpanType\n",
    "# Enable trace logging\n",
    "mlflow.openai.autolog()\n",
    "\n",
    "@mlflow.trace(span_type=SpanType.TOOL)\n",
    "def get_weather(city:str) -> str:\n",
    "    if city == \"tokyo\":\n",
    "        return \"sunny\"\n",
    "    elif city == \"Paris\":\n",
    "        return 'rainy'\n",
    "    return 'unknown'\n",
    "\n",
    "tools = [\n",
    "    {\n",
    "        \"type\":'function',\n",
    "        \"function\":{\n",
    "            \"name\":\"get_weather\",\n",
    "            \"parameter\":{\n",
    "                'type':\"object\",\n",
    "                'properties':{\"city\":{'type':'string'}},\n",
    "            },\n",
    "        },\n",
    "    }\n",
    "]\n",
    "\n",
    "_tool_functions = {'get_weather':get_weather}\n",
    "\n",
    "@mlflow.trace(span_type=SpanType.AGENT)\n",
    "def run_tool_agent(question:str):\n",
    "    messages=[{\"role\":\"user\",\"content\":question}]\n",
    "client = openai.AsyncOpenAI(api_key=api_key)\n",
    "\n",
    "response = await client.chat.completions.create(\n",
    "    model=\"gpt-4o-mini-2024-07-18\",\n",
    "    messages=messages,\n",
    "    tools=tools\n",
    "    # Async streaming is also supported\n",
    "    # stream=True\n",
    "\n",
    ")\n",
    "ai_msg = response.choices[0].message\n",
    "    messages.append(ai_msg)\n",
    "\n",
    "    # If the model request tool call(s), invoke the function with the specified arguments\n",
    "    if tool_calls := ai_msg.tool_calls:\n",
    "        for tool_call in tool_calls:\n",
    "            function_name = tool_call.function.name\n",
    "            if tool_func := _tool_functions.get(function_name):\n",
    "                args = json.loads(tool_call.function.arguments)\n",
    "                tool_result = tool_func(**args)\n",
    "            else:\n",
    "                raise RuntimeError(\"An invalid tool is returned from the assistant!\")\n",
    "\n",
    "            messages.append(\n",
    "                {\n",
    "                    \"role\": \"tool\",\n",
    "                    \"tool_call_id\": tool_call.id,\n",
    "                    \"content\": tool_result,\n",
    "                }\n",
    "            )\n",
    "\n",
    "        # Sent the tool results to the model and get a new response\n",
    "        response = client.chat.completions.create(\n",
    "            model=\"gpt-4o-mini\", messages=messages\n",
    "        )\n",
    "\n",
    "    return response.choices[0].message.content\n",
    "\n",
    "\n",
    "# Run the tool calling agent\n",
    "question = \"What's the weather like in Paris today?\"\n",
    "answer = run_tool_agent(question)"
   ]
  }
 ],
 "metadata": {
  "kernelspec": {
   "display_name": ".venv",
   "language": "python",
   "name": "python3"
  },
  "language_info": {
   "codemirror_mode": {
    "name": "ipython",
    "version": 3
   },
   "file_extension": ".py",
   "mimetype": "text/x-python",
   "name": "python",
   "nbconvert_exporter": "python",
   "pygments_lexer": "ipython3",
   "version": "3.13.2"
  }
 },
 "nbformat": 4,
 "nbformat_minor": 2
}
